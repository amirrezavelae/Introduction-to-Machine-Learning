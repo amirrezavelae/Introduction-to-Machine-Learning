{
  "cells": [
    {
      "cell_type": "markdown",
      "metadata": {
        "id": "9CFNN5Ms51un"
      },
      "source": [
        "<h1 align=\"center\">An Introduction to Machine Learning - 25737</h1>\n",
        "<h4 align=\"center\">Dr. Sajjad Amini</h4>\n",
        "<h4 align=\"center\">Sharif University of Technology, Spring 2023</h4>\n",
        "\n",
        "# Problem Set 02\n",
        "\n",
        "Welcome to your second assignment. This exercise gives you a brief introduction to Python. \n"
      ]
    },
    {
      "attachments": {},
      "cell_type": "markdown",
      "metadata": {
        "id": "otVWavun6BLM"
      },
      "source": [
        "STUDENT NAME: Amirreza Velae\n",
        "\n",
        "STUDENT ID: 400102222"
      ]
    },
    {
      "cell_type": "markdown",
      "metadata": {
        "id": "ZmfUgXgE51uo"
      },
      "source": [
        "## Import \n",
        ">Put all of your imports for this file in the below cell."
      ]
    },
    {
      "cell_type": "code",
      "execution_count": 49,
      "metadata": {
        "id": "PKyVIvPF51uo"
      },
      "outputs": [],
      "source": [
        "### START CODE HERE ###\n",
        "import numpy as np\n",
        "import matplotlib.pyplot as plt\n",
        "import pandas as pd\n",
        "### END CODE HERE ###"
      ]
    },
    {
      "cell_type": "markdown",
      "metadata": {
        "id": "TK-ZIy9Z51up"
      },
      "source": [
        "# Question 1"
      ]
    },
    {
      "cell_type": "markdown",
      "metadata": {
        "id": "xATpgtcD51up"
      },
      "source": [
        "## Array creation\n",
        ">Create the followings to numpy array:\n",
        "* A: a 3\\*3 array like this:\n",
        "$$\n",
        "A = \\left(\\begin{array}{cc} \n",
        "10 & 20 & 30\\\\\n",
        "5 & 10 & 15\\\\\n",
        "1 & 5 & 8\n",
        "\\end{array}\\right)\n",
        "$$ \n",
        "* B: a 3\\*3\\*4 that filled with the numbers start from 15 and have steps of 5 to the end. The array should be filled first along the first dimension then the second dimension and at last the third dimension. like this:\n",
        "$$\n",
        "B[:, :, 0] = \\left(\\begin{array}{cc} \n",
        "15 & 30 & 45\\\\\n",
        "20 & 35 & 50\\\\\n",
        "25 & 40 & 55\n",
        "\\end{array}\\right)\n",
        "$$ "
      ]
    },
    {
      "cell_type": "code",
      "execution_count": 50,
      "metadata": {
        "id": "TjIs628Y51up"
      },
      "outputs": [
        {
          "name": "stdout",
          "output_type": "stream",
          "text": [
            "[[[ 15  60 105 150]\n",
            "  [ 30  75 120 165]\n",
            "  [ 45  90 135 180]]\n",
            "\n",
            " [[ 20  65 110 155]\n",
            "  [ 35  80 125 170]\n",
            "  [ 40  85 130 175]]\n",
            "\n",
            " [[ 25  70 115 160]\n",
            "  [ 40  85 130 175]\n",
            "  [ 55 100 145 190]]]\n"
          ]
        }
      ],
      "source": [
        "### START CODE HERE ###\n",
        "A = np.array([[10,20,30],[5,10,15],[1,5,8]])\n",
        "\n",
        "B_Builder = np.array([[15,30,45],[20,35,40],[25,40,55]])\n",
        "B = np.zeros((3,3,4))\n",
        "for i in range(4):\n",
        "    B[:,:,i] = (B_Builder + i*45)\n",
        "B = B.astype(int)\n",
        "\n",
        "\n",
        "print(B)\n",
        "### END CODE HERE ###"
      ]
    },
    {
      "cell_type": "markdown",
      "metadata": {
        "id": "FnkUQTNY51up"
      },
      "source": [
        "## Replacement\n",
        ">Replace the last slice of array B (B[:, :, 3]) with values of A. Then print the result."
      ]
    },
    {
      "cell_type": "code",
      "execution_count": 51,
      "metadata": {
        "id": "P8VC57_o51uq"
      },
      "outputs": [
        {
          "name": "stdout",
          "output_type": "stream",
          "text": [
            "B[:,:,3] = \n",
            " [[105 120 135]\n",
            " [110 125 130]\n",
            " [115 130 145]] \n",
            "\n",
            "B[:,:,3] = \n",
            " [[10 20 30]\n",
            " [ 5 10 15]\n",
            " [ 1  5  8]] \n",
            "\n"
          ]
        }
      ],
      "source": [
        "### START CODE HERE ###\n",
        "print(\"B[:,:,3] = \\n\", B[:,:,2], \"\\n\")\n",
        "B[:,:,3] = A\n",
        "print(\"B[:,:,3] = \\n\", B[:,:,3], \"\\n\")\n",
        "### END CODE HERE ###"
      ]
    },
    {
      "cell_type": "markdown",
      "metadata": {
        "id": "nZs4P5AZ51uq"
      },
      "source": [
        "## Axis Swap \n",
        ">Swap the first(B[:, :, 0]) and last(B[:, :, 3]) slice of the array B **only with one line of code**. Then print the result."
      ]
    },
    {
      "cell_type": "code",
      "execution_count": 52,
      "metadata": {
        "id": "WmS33bBl51uq"
      },
      "outputs": [
        {
          "name": "stdout",
          "output_type": "stream",
          "text": [
            "[[[ 10  60 105  15]\n",
            "  [ 20  75 120  30]\n",
            "  [ 30  90 135  45]]\n",
            "\n",
            " [[  5  65 110  20]\n",
            "  [ 10  80 125  35]\n",
            "  [ 15  85 130  40]]\n",
            "\n",
            " [[  1  70 115  25]\n",
            "  [  5  85 130  40]\n",
            "  [  8 100 145  55]]]\n"
          ]
        }
      ],
      "source": [
        "### START CODE HERE ###\n",
        "B[:,:,[0,3]] = B[:,:,[3,0]]\n",
        "print(B)\n",
        "### END CODE HERE ###"
      ]
    },
    {
      "cell_type": "markdown",
      "metadata": {
        "id": "220LTscL51uq"
      },
      "source": [
        "## Transposing \n",
        ">Transpose the array B elements in each slice. Then print the result."
      ]
    },
    {
      "cell_type": "code",
      "execution_count": 53,
      "metadata": {
        "id": "aNMAlnaC51uq"
      },
      "outputs": [],
      "source": [
        "### START CODE HERE ###\n",
        "#transpose\n",
        "for i in range(4):\n",
        "    B[:,:,i] = B[:,:,i].T\n",
        "### END CODE HERE ###"
      ]
    },
    {
      "cell_type": "markdown",
      "metadata": {
        "id": "xYFuQ6_H51uq"
      },
      "source": [
        "## Matrix Multiplication\n",
        ">Calculate the matrix multiplication of all slices of the array B. \n",
        "(B[:, :, 0] \\* B[:, :, 1] \\* B[:, :, 2] \\* B[:, :, 3]). Then print the result.\n",
        "\n",
        ">**Note**: the result should be a 3\\*3 array. "
      ]
    },
    {
      "cell_type": "code",
      "execution_count": 54,
      "metadata": {
        "id": "HfQRENtP51uq"
      },
      "outputs": [
        {
          "name": "stdout",
          "output_type": "stream",
          "text": [
            "[[3.8893500e+07 4.0813625e+07 5.1686750e+07]\n",
            " [8.7142500e+07 9.1444375e+07 1.1580625e+08]\n",
            " [1.3227300e+08 1.3880275e+08 1.7578150e+08]]\n"
          ]
        }
      ],
      "source": [
        "### START CODE HERE ###\n",
        "C = np.eye(3)\n",
        "for i in range(4):\n",
        "    C = np.matmul(C,B[:,:,i])\n",
        "print(C)\n",
        "### END CODE HERE ###"
      ]
    },
    {
      "cell_type": "markdown",
      "metadata": {
        "id": "T-aKILXl51uq"
      },
      "source": [
        "## Determinant\n",
        ">Calculate the determinant of the array A and print it."
      ]
    },
    {
      "cell_type": "code",
      "execution_count": 63,
      "metadata": {
        "id": "IuIyFxIb51ur"
      },
      "outputs": [
        {
          "name": "stdout",
          "output_type": "stream",
          "text": [
            "det_A =  0.0\n"
          ]
        }
      ],
      "source": [
        "### START CODE HERE ###\n",
        "det_A = np.linalg.det(A)\n",
        "print(\"det_A = \", det_A)\n",
        "### END CODE HERE ###"
      ]
    },
    {
      "cell_type": "markdown",
      "metadata": {
        "id": "dUxqZ--i51ur"
      },
      "source": [
        "# Question 2"
      ]
    },
    {
      "cell_type": "markdown",
      "metadata": {
        "id": "tVorf1Zj51ur"
      },
      "source": [
        "## Loading dataset\n",
        ">Load the IMDB-Movie-Data.csv file into a pandas dataframe and show its first 5 rows. Each row of this dataframe corresponds to one film."
      ]
    },
    {
      "cell_type": "code",
      "execution_count": 56,
      "metadata": {
        "id": "dIsa36yi51ur"
      },
      "outputs": [],
      "source": [
        "### START CODE HERE ###\n",
        "data = pd.read_csv('IMDB-Movie-Data.csv')\n",
        "### END CODE HERE ###"
      ]
    },
    {
      "cell_type": "markdown",
      "metadata": {
        "id": "pgDvllsV51ur"
      },
      "source": [
        "## Actors/Actresses Activity\n",
        ">For each Actors/Actresses caculate the number of movies in the dataframe, then sort the actors/actresses first by their number of movies in descending order and then by their name in ascending order. "
      ]
    },
    {
      "cell_type": "code",
      "execution_count": 67,
      "metadata": {
        "id": "GfB9w9UO51ur"
      },
      "outputs": [
        {
          "name": "stdout",
          "output_type": "stream",
          "text": [
            "[('Mark Wahlberg', 15), ('Hugh Jackman', 14), ('Christian Bale', 13), ('Brad Pitt', 13), ('Robert Downey Jr.', 12), ('Tom Hardy', 12), ('Scarlett Johansson', 12), ('Michael Fassbender', 12), ('Johnny Depp', 12), ('Channing Tatum', 12)]\n"
          ]
        }
      ],
      "source": [
        "### START CODE HERE ###\n",
        "#Get all Actors from the dataset and store it in a list\n",
        "actors = []\n",
        "for i in data['Actors']:\n",
        "    actors.extend(i.split(','))\n",
        "actors = list(set(actors))\n",
        "#count the number of movies each actor has acted in\n",
        "actor_count = []\n",
        "for i in actors:\n",
        "    count = 0\n",
        "    for j in data['Actors']:\n",
        "        if i in j:\n",
        "            count += 1\n",
        "    actor_count.append(count)\n",
        "#Create a dictionary of actors and their movie count\n",
        "actor_dict = dict(zip(actors,actor_count))\n",
        "#Sort the dictionary in descending order of movie count\n",
        "actor_dict = sorted(actor_dict.items(), key=lambda x: x[1], reverse=True)\n",
        "#Print the top 10 actors\n",
        "print(actor_dict[:10])\n",
        "\n",
        "### END CODE HERE ###"
      ]
    },
    {
      "cell_type": "markdown",
      "metadata": {
        "id": "U8qu6f7d51ur"
      },
      "source": [
        "## Score Histogram\n",
        ">Draw the histogram of metascores and ratings. "
      ]
    },
    {
      "cell_type": "code",
      "execution_count": 58,
      "metadata": {
        "id": "JUf-Jl6T51ur"
      },
      "outputs": [
        {
          "data": {
            "image/png": "[encoded data removed]",
            "text/plain": [
              "<Figure size 640x480 with 1 Axes>"
            ]
          },
          "metadata": {},
          "output_type": "display_data"
        },
        {
          "data": {
            "image/png": "[encoded data removed]",
            "text/plain": [
              "<Figure size 640x480 with 1 Axes>"
            ]
          },
          "metadata": {},
          "output_type": "display_data"
        }
      ],
      "source": [
        "### START CODE HERE ###\n",
        "#Draw the histogram of metascores and ratings. \n",
        "plt.hist(data['Metascore'],bins=50)\n",
        "plt.title('Metascore')\n",
        "plt.xlabel('Metascore')\n",
        "plt.ylabel('Frequency')\n",
        "plt.show()\n",
        "\n",
        "plt.hist(data['Rating'],bins=50)\n",
        "plt.title('Rating')\n",
        "plt.xlabel('Rating')\n",
        "plt.ylabel('Frequency')\n",
        "plt.show()\n",
        "### END CODE HERE ###"
      ]
    },
    {
      "cell_type": "markdown",
      "metadata": {
        "id": "_fD8olon51ur"
      },
      "source": [
        "## Correlations\n",
        ">Calculate the correlation between rating, votes and metascore of the movies.\n",
        "Is there any meaningful relation between these features? "
      ]
    },
    {
      "cell_type": "code",
      "execution_count": 64,
      "metadata": {
        "id": "4Llb2din51ur"
      },
      "outputs": [
        {
          "name": "stdout",
          "output_type": "stream",
          "text": [
            "Correlation between Rating and Metascore =  0.6318965100387075\n",
            "Correlation between Rating and Votes =  0.5115373197657554\n",
            "Correlation between Metascore and Votes =  0.32568380853365664\n"
          ]
        }
      ],
      "source": [
        "### START CODE HERE ###\n",
        "print(\"Correlation between Rating and Metascore = \", data['Rating'].corr(data['Metascore']))\n",
        "print(\"Correlation between Rating and Votes = \", data['Rating'].corr(data['Votes']))\n",
        "print(\"Correlation between Metascore and Votes = \", data['Metascore'].corr(data['Votes']))\n",
        "### END CODE HERE ###"
      ]
    },
    {
      "attachments": {},
      "cell_type": "markdown",
      "metadata": {},
      "source": [
        "The correlation between rating and metascore is 0.63 which is a strong positive correlation. This means that the higher the rating, the higher the metascore. The correlation between rating and votes is 0.51 which is a moderate positive correlation. This means that the higher the rating, the higher the votes. The correlation between metascore and votes is 0.32 which is a weak positive correlation. This means that not necessarily the higher the metascore, the higher the votes.So, there is a meaningful relation between rating and metascore and between rating and votes."
      ]
    },
    {
      "cell_type": "markdown",
      "metadata": {
        "id": "kLHzx8KW51ur"
      },
      "source": [
        "# Question 3"
      ]
    },
    {
      "cell_type": "markdown",
      "metadata": {
        "id": "xQMEJJVI51ur"
      },
      "source": [
        "## File\n",
        "> Crate a .txt file and name it \"Name_actors\". You must write the name of all actors/actresses in the IMDB-Movie-Data.csv file. Don't write a name multiple time and write each name in a new line."
      ]
    },
    {
      "cell_type": "code",
      "execution_count": 68,
      "metadata": {
        "id": "li8flG_251us"
      },
      "outputs": [],
      "source": [
        "### START CODE HERE ###\n",
        "with open('Name_actors.txt','w') as f:\n",
        "    for i in actors:\n",
        "        f.write(i.strip()+'\\n')\n",
        "        \n",
        "### END CODE HERE ###"
      ]
    },
    {
      "cell_type": "markdown",
      "metadata": {
        "id": "oXpoTAa-51us"
      },
      "source": [
        "# Question 4"
      ]
    },
    {
      "cell_type": "markdown",
      "metadata": {
        "id": "-l8ephAz51us"
      },
      "source": [
        "## Plot\n",
        ">You must plot the number of movies in each year according to the IMDB-Movie-Data.csv file. X-axis is year and y-axis show the number of movies in each year.\n",
        "> set the x_label, y_label and title for your plot."
      ]
    },
    {
      "cell_type": "code",
      "execution_count": 69,
      "metadata": {
        "id": "pVgfjlk_51us"
      },
      "outputs": [
        {
          "data": {
            "text/plain": [
              "<BarContainer object of 11 artists>"
            ]
          },
          "execution_count": 69,
          "metadata": {},
          "output_type": "execute_result"
        },
        {
          "data": {
            "image/png": "[encoded data removed]",
            "text/plain": [
              "<Figure size 640x480 with 1 Axes>"
            ]
          },
          "metadata": {},
          "output_type": "display_data"
        }
      ],
      "source": [
        "### START CODE HERE ###\n",
        "#plot the number of movies in each year according to the IMDB-Movie-Data.csv file. X-axis is year and y-axis show the number of movies in each year.\n",
        "year = []\n",
        "for i in data['Year']:\n",
        "    year.append(i)\n",
        "year = list(set(year))\n",
        "year_count = []\n",
        "for i in year:\n",
        "    count = 0\n",
        "    for j in data['Year']:\n",
        "        if i == j:\n",
        "            count += 1\n",
        "    year_count.append(count)\n",
        "plt.bar(year,year_count)\n",
        "### END CODE HERE ###"
      ]
    },
    {
      "cell_type": "markdown",
      "metadata": {
        "id": "-xaIS92c51us"
      },
      "source": [
        "## Plot\n",
        ">You must plot the cos(x) curve. plot 20 cycle of the curve. the frequency of first half of curve is 50 Hz and frequency of second lalf is 200 Hz. \n",
        "> set the x_label, y_label and title for your plot."
      ]
    },
    {
      "cell_type": "code",
      "execution_count": 89,
      "metadata": {
        "id": "5VhGTsTw51us"
      },
      "outputs": [
        {
          "data": {
            "image/png": "[encoded data removed]",
            "text/plain": [
              "<Figure size 640x480 with 1 Axes>"
            ]
          },
          "metadata": {},
          "output_type": "display_data"
        }
      ],
      "source": [
        "### START CODE HERE ###\n",
        "t1 = np.linspace(0, 0.2, 500)\n",
        "t2 = np.linspace(0.2, 0.25, 1000)\n",
        "t = np.concatenate((t1, t2))     \n",
        "\n",
        "x = np.cos(2*np.pi*50*t1)        \n",
        "y = np.cos(2*np.pi*200*t2)       \n",
        "z = np.concatenate((x, y))     \n",
        "\n",
        "plt.plot(t, z)\n",
        "plt.xlabel('Time (sec)')\n",
        "plt.ylabel('Amplitude')\n",
        "plt.title('20 Cycles of cos(x) with Frequency of 50 Hz and 200 Hz')\n",
        "plt.ylim(-3, 3)\n",
        "plt.grid()\n",
        "plt.show()\n",
        "### END CODE HERE ###"
      ]
    }
  ],
  "metadata": {
    "colab": {
      "provenance": []
    },
    "kernelspec": {
      "display_name": "base",
      "language": "python",
      "name": "python3"
    },
    "language_info": {
      "codemirror_mode": {
        "name": "ipython",
        "version": 3
      },
      "file_extension": ".py",
      "mimetype": "text/x-python",
      "name": "python",
      "nbconvert_exporter": "python",
      "pygments_lexer": "ipython3",
      "version": "3.9.16"
    },
    "orig_nbformat": 4,
    "vscode": {
      "interpreter": {
        "hash": "49cb93f377a7abe7414b7b0f21fb3017538004a126cf690fb524202736b7fb92"
      }
    }
  },
  "nbformat": 4,
  "nbformat_minor": 0
}
