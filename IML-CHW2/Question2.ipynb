{
  "cells": [
    {
      "attachments": {},
      "cell_type": "markdown",
      "metadata": {
        "id": "un_07izr0mCO"
      },
      "source": [
        "<h1 align=\"center\">An Introduction to Machine Learning - 25737</h1>\n",
        "<h4 align=\"center\">Dr. Sajjad Amini</h4>\n",
        "<h4 align=\"center\">Sharif University of Technology, Spring 2023</h4>\n",
        "\n",
        "**Student Name**:Amirreza Velaei\n",
        "\n",
        "**Student ID**:400102222\n",
        "\n",
        "# Effect of Overfitting\n",
        "\n",
        "In this exercise, we want to examine the effect of **overfitting**. As you learned in class, using too many features in training can result in a model with very low loss on the training set but high loss on the validation and test set. For this purpose, we have prepared a dataset in the `q2-train.npy`, `q2-valid.npy`, and `q2-test.npy` files for you. We know that `y` is a polynomial function of `x` in this dataset, meaning that \n",
        "\n",
        "$$\n",
        "y = \\sum_{i=0}^{k}a_ix^i\n",
        "$$\n",
        "\n",
        "However, we do not know the exact value of `k`."
      ]
    },
    {
      "attachments": {},
      "cell_type": "markdown",
      "metadata": {
        "id": "rcSNUeqT158e"
      },
      "source": [
        "## Importing Libraries\n",
        "\n",
        "First, we import the necessary libraries for this assignment. Please note that you should only use these libraries and no other libraries are acceptable."
      ]
    },
    {
      "cell_type": "code",
      "execution_count": 2,
      "metadata": {
        "id": "UitW8b0J0jBa"
      },
      "outputs": [],
      "source": [
        "import numpy as np\n",
        "import matplotlib.pyplot as plt"
      ]
    },
    {
      "attachments": {},
      "cell_type": "markdown",
      "metadata": {
        "id": "Q1x7BaU22F4k"
      },
      "source": [
        "## Reading Data and Preprocessing\n",
        "\n",
        "In this part of the assignment, you should read data from the `.npy` files. The data in `q2-train.npy` file is your training set and should be stored in the `X_train` and `Y_train` variables. Similarly, the data in `q2-valid.npy` file is your validation set, and the data in `q2-test.npy` file is your test set, which should be stored in `X_val`, `Y_val`, `X_test`, and `Y_test` respectively. You can use the `np.load` function to read the `.npy` files."
      ]
    },
    {
      "cell_type": "code",
      "execution_count": 14,
      "metadata": {
        "id": "dDMeq10G2m0U"
      },
      "outputs": [
        {
          "name": "stdout",
          "output_type": "stream",
          "text": [
            "[-1.93239324  1.19351935 -1.8219822   0.62986299 -0.49384938  0.10461046\n",
            " -1.65036504  0.51665167  1.49994999  0.97709771  0.94629463  0.89428943\n",
            "  1.00950095 -0.28942894  0.0650065  -1.18551855  0.58865887  0.78827883\n",
            "  0.12541254  1.58555856 -0.30583058  0.22382238 -0.64546455  0.11541154\n",
            " -1.48954895  1.79077908 -1.919992    0.44424442 -1.32873287  1.57115712]\n"
          ]
        }
      ],
      "source": [
        "X_train, Y_train, X_val, Y_val, X_test, Y_test = None, None, None, None, None, None\n",
        "\n",
        "### START CODE HERE ###\n",
        "X_train = np.load('q2-train.npy')[:,0]\n",
        "X_val = np.load('q2-valid.npy')[:,0]\n",
        "X_test = np.load('q2-test.npy')[:,0]\n",
        "\n",
        "Y_train = np.load('q2-train.npy')[:,1]\n",
        "Y_val = np.load('q2-valid.npy')[:,1]\n",
        "Y_test = np.load('q2-test.npy')[:,1]\n",
        "### END CODE HERE ###"
      ]
    },
    {
      "attachments": {},
      "cell_type": "markdown",
      "metadata": {
        "id": "nyXpEfEa3Gw-"
      },
      "source": [
        "To find the best value of `k`, we want to change `k` from 1 to 12 and examine its effect on the validation set, and then choose the right value of `k`. For this purpose, we need to create a matrix with columns equal to $x^0$, $x^1$, $x^2$, ..., $x^k$ for every value of `k`. You can complete the following function to do this job. The function takes an $m \\times 1$ vector `X` containing values of input `x` and returns an $m \\times (k+1)$ matrix that has the properties mentioned above."
      ]
    },
    {
      "cell_type": "code",
      "execution_count": 47,
      "metadata": {
        "id": "DXw2tPO84Ksp"
      },
      "outputs": [],
      "source": [
        "def create_matrix(X):\n",
        "  '''\n",
        "  X: an m by 1 array \n",
        "  '''\n",
        "  new_X = None\n",
        "  ### START CODE HERE ###\n",
        "  new_X = np.zeros((X.shape[0], 11))\n",
        "  for i in range(X.shape[0]):\n",
        "    for j in range(11):\n",
        "      new_X[i][j] = X[i]**j\n",
        "  ### END CODE HERE ###\n",
        "  return new_X"
      ]
    },
    {
      "attachments": {},
      "cell_type": "markdown",
      "metadata": {
        "id": "WCTuye7C5Aq3"
      },
      "source": [
        "## Validate Model\n",
        "\n",
        "Now, we want to train our model for every value of `k`. You can use any of the methods that we used in **Question 1** (gradient descent or direct calculation) for this purpose. The following function trains our model on the training set for a given value of `k`, and then returns the loss on the training set and validation set, as well as the weight vector `w`."
      ]
    },
    {
      "cell_type": "code",
      "execution_count": 5,
      "metadata": {
        "id": "9lfWITgf7yQH"
      },
      "outputs": [],
      "source": [
        "# If you need any other function for training write it here\n",
        "# (like gradient descent or anything else)\n"
      ]
    },
    {
      "cell_type": "code",
      "execution_count": 48,
      "metadata": {
        "id": "JaIs631q508z"
      },
      "outputs": [],
      "source": [
        "def train(X_train, Y_train, X_val, Y_val, k):\n",
        "  '''\n",
        "  X_train: an m_train by 1 vector contains training points\n",
        "  Y_train: an m_train by 1 vector contains training values\n",
        "  X_val: an m_val by 1 vector contains validation points\n",
        "  Y_val: an m_val by 1 vector contains validation values\n",
        "  k: degree of polynomial\n",
        "  '''\n",
        "  w, loss_train, loss_val = None, None , None\n",
        "  ### START CODE HERE ###\n",
        "  X_train = create_matrix(X_train)\n",
        "  X_val = create_matrix(X_val)\n",
        "  X_train = np.matrix(X_train[:,0:k+1])\n",
        "  X_val = np.matrix(X_val[:,0:k+1])\n",
        "  Y_train = np.matrix(Y_train).T\n",
        "  Y_val = np.matrix(Y_val).T\n",
        "  w = np.linalg.inv(X_train.T*X_train)*X_train.T*Y_train\n",
        "  loss_train = np.linalg.norm(X_train*w - Y_train)**2\n",
        "  loss_val = np.linalg.norm(X_val*w - Y_val)**2\n",
        "  ### END CODE HERE ###\n",
        "  return w, loss_train, loss_val"
      ]
    },
    {
      "attachments": {},
      "cell_type": "markdown",
      "metadata": {
        "id": "eAsZfxCu6YEf"
      },
      "source": [
        "In the cell below, you can change the value of `k` between 1 and 12 and plot the loss on the training and validation set as a function of `k` in the same plot.\n",
        "\n",
        "**Question**: Discuss about the effect of $k$.\n",
        "\n",
        "**Answer**: As we can see in the plot, the loss on the training set decreases as k increases. But the loss on the validation set decreases until k=8 and then increases. This is because when k is small, the model is not complex enough to fit the training data. But when k is large, the model is too complex and fits the noise in the training data. So the loss on the validation set increases. So we should choose k=8."
      ]
    },
    {
      "cell_type": "code",
      "execution_count": 58,
      "metadata": {
        "id": "knUTXtOv66Wx"
      },
      "outputs": [
        {
          "data": {
            "image/png": "[encoded data removed]",
            "text/plain": [
              "<Figure size 640x480 with 1 Axes>"
            ]
          },
          "metadata": {},
          "output_type": "display_data"
        }
      ],
      "source": [
        "### START CODE HERE ###\n",
        "#plot the training and validation loss for k = 0, 1, 2, ..., 11\n",
        "loss_train = []\n",
        "loss_val = []\n",
        "for i in range(12):\n",
        "    w, loss_train_i, loss_val_i = train(X_train, Y_train, X_val, Y_val, i)\n",
        "    loss_train.append(loss_train_i)\n",
        "    loss_val.append(loss_val_i)\n",
        "plt.plot(range(12), loss_train, label = 'training loss')\n",
        "plt.plot(range(12), loss_val, label = 'validation loss')\n",
        "plt.legend()\n",
        "plt.show()\n",
        "\n",
        "### END CODE HERE ###"
      ]
    },
    {
      "attachments": {},
      "cell_type": "markdown",
      "metadata": {
        "id": "K0M1d2Ez7JLJ"
      },
      "source": [
        "## Evaluating Model\n",
        "\n",
        "In the cell below find the loss of your best model on the test set.\n",
        "\n",
        "**Question**: Why we need test set?\n",
        "\n",
        "**Answer**: We need the test set to evaluate the performance of our model on unseen data. We should not use the test set to choose the best model. We should use the validation set for this purpose. We should use the test set only once to evaluate the performance of our model."
      ]
    },
    {
      "cell_type": "code",
      "execution_count": 59,
      "metadata": {
        "id": "Ex1P5H0A7emE"
      },
      "outputs": [
        {
          "name": "stdout",
          "output_type": "stream",
          "text": [
            "training loss:  1.3446339278283044\n",
            "validation loss:  4.451727667539965\n"
          ]
        }
      ],
      "source": [
        "### START CODE HERE ###\n",
        "#plot the training and validation loss for k = 0, 1, 2, ..., 11\n",
        "w, loss_train, loss_val = train(X_train, Y_train, X_val, Y_val, 8)\n",
        "print('training loss: ', loss_train)\n",
        "print('validation loss: ', loss_val)\n",
        "### END CODE HERE ###"
      ]
    }
  ],
  "metadata": {
    "colab": {
      "provenance": []
    },
    "kernelspec": {
      "display_name": "Python 3",
      "name": "python3"
    },
    "language_info": {
      "codemirror_mode": {
        "name": "ipython",
        "version": 3
      },
      "file_extension": ".py",
      "mimetype": "text/x-python",
      "name": "python",
      "nbconvert_exporter": "python",
      "pygments_lexer": "ipython3",
      "version": "3.9.16"
    }
  },
  "nbformat": 4,
  "nbformat_minor": 0
}
