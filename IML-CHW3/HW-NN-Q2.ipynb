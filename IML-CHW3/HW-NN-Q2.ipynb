{
 "cells": [
  {
   "cell_type": "markdown",
   "id": "9779e5d5",
   "metadata": {},
   "source": [
    "<div align=center>\n",
    "\n",
    "<font size=5>\n",
    "    In the Name of God\n",
    "<font/>\n",
    "<br/>\n",
    "<br/>\n",
    "<font>\n",
    "    Sharif University of Technology - Departmenet of Electrical Engineering\n",
    "</font>\n",
    "<br/>\n",
    "<font>\n",
    "    Introducing with Machine Learing - Dr. S. Amini\n",
    "</font>\n",
    "<br/>\n",
    "<br/>\n",
    "Spring 2023\n",
    "\n",
    "</div>\n",
    "\n",
    "<hr/>\n",
    "<div align=center>\n",
    "<font size=6>\n",
    "    Neural Networks Practical Assignment\n",
    "    \n",
    "    Question 2\n",
    "</font>\n",
    "<br/>\t\t\n",
    "<font size=4>\n",
    "<br/>\n",
    "</div>"
   ]
  },
  {
   "cell_type": "markdown",
   "id": "1d55ee53",
   "metadata": {
    "id": "a6c2fd6d"
   },
   "source": [
    "# Personal Data"
   ]
  },
  {
   "cell_type": "code",
   "execution_count": null,
   "id": "40e950d8",
   "metadata": {
    "id": "4e90a030"
   },
   "outputs": [],
   "source": [
    "# Set your student number\n",
    "student_number = \n",
    "Name = ''\n",
    "Last_Name = ''"
   ]
  },
  {
   "cell_type": "markdown",
   "id": "2edb1e44",
   "metadata": {
    "id": "339da203"
   },
   "source": [
    "# Rules\n",
    "- You are not allowed to add or remove cells. You **must use the provided space to write your code**. If you don't follow this rule, **your Practical Assignment won't be graded**.  \n",
    "\n",
    "- Collaboration and using the internet is allowed, but your code **must be written by yourself**. **Copying code** from each other or from available resources will result in a **zero score for the assignment**.\n",
    "\n",
    "- In this question, you are allowed to use `torch.optim`, `torch.nn` or any other submodule you need.\n",
    "- You **are not allowed** to use the models already implemented or the pretrained models in torch. "
   ]
  },
  {
   "cell_type": "code",
   "execution_count": null,
   "id": "7a15a195",
   "metadata": {
    "id": "881f2e4c"
   },
   "outputs": [],
   "source": [
    "!pip install numpy\n",
    "!pip install matplotlib\n",
    "!pip install torchvision\n",
    "!pip install torch"
   ]
  },
  {
   "cell_type": "markdown",
   "id": "85c3b02e",
   "metadata": {},
   "source": [
    "## Importing Libraries"
   ]
  },
  {
   "cell_type": "code",
   "execution_count": null,
   "id": "b6246005",
   "metadata": {},
   "outputs": [],
   "source": [
    "import torch\n",
    "from torchvision.datasets import FashionMNIST\n",
    "from torchvision import transforms\n",
    "from torch.utils.data import DataLoader\n",
    "\n",
    "import numpy as np\n",
    "from matplotlib import pyplot as plt\n",
    "from typing import Dict"
   ]
  },
  {
   "cell_type": "markdown",
   "id": "2c89754b",
   "metadata": {},
   "source": [
    "## Datasets and Dataloaders\n",
    "\n",
    "You should load the train and test set of the `CIFAR10` dataset and apply the desired transforms on it. Then, you should create the loaders for these `test` and `train` sets.\n",
    "- **Hint:** You can use `torchvision.datasets` to easily load the CIFAR10 dataset."
   ]
  },
  {
   "cell_type": "code",
   "execution_count": null,
   "id": "40e10458",
   "metadata": {},
   "outputs": [],
   "source": [
    "## FILL HERE"
   ]
  },
  {
   "cell_type": "markdown",
   "id": "ee9a3be8",
   "metadata": {},
   "source": [
    "## Visualization\n",
    "\n",
    "Visualize 1 random image from each class\n"
   ]
  },
  {
   "cell_type": "code",
   "execution_count": null,
   "id": "a1b039d1",
   "metadata": {},
   "outputs": [],
   "source": [
    "## FILL HERE"
   ]
  },
  {
   "cell_type": "markdown",
   "id": "1221642e",
   "metadata": {},
   "source": [
    "## Defining a Convolutional Neural Network\n",
    "\n",
    "In this section, you should define a class called `Net` which represents the model for your convolutional neural network.\n",
    "- **Hint:** You can use `torch.nn` to add the required layers to your model."
   ]
  },
  {
   "cell_type": "code",
   "execution_count": null,
   "id": "0ba6a266",
   "metadata": {},
   "outputs": [],
   "source": [
    "import torch.nn as nn\n",
    "import torch.nn.functional as F\n",
    "\n",
    "\n",
    "class Net(nn.Module):\n",
    "    def __init__(self):\n",
    "        super().__init__()\n",
    "        ## FILL HERE\n",
    "\n",
    "    def forward(self, x):\n",
    "        ## FILL HERE\n",
    "        return x\n",
    "\n",
    "net = Net()"
   ]
  },
  {
   "cell_type": "markdown",
   "id": "e3c27c9f",
   "metadata": {},
   "source": [
    "## Define a Loss function and optimizer"
   ]
  },
  {
   "cell_type": "markdown",
   "id": "a8f1eadd",
   "metadata": {},
   "source": [
    "In this section, you simply define your loss function and optimizer.\n",
    "- **Hint:** You can use `torch.optim` and implemented loss functions in torch."
   ]
  },
  {
   "cell_type": "code",
   "execution_count": null,
   "id": "79068600",
   "metadata": {},
   "outputs": [],
   "source": [
    "## FILL HERE"
   ]
  },
  {
   "cell_type": "markdown",
   "id": "b526ee28",
   "metadata": {},
   "source": [
    "## Training the model\n",
    "\n",
    "You should train your model for multiple epochs. You are free to choose the number of epochs. However, you should reach an acceptable accuracy at the end."
   ]
  },
  {
   "cell_type": "code",
   "execution_count": null,
   "id": "fbf5c8d2",
   "metadata": {},
   "outputs": [],
   "source": [
    "epoch_nums = ## Number of epochs\n",
    "for epoch in range(epoch_nums):  # loop over the dataset multiple times\n",
    "\n",
    "    running_loss = 0.0\n",
    "    for i, data in enumerate(trainloader, 0):\n",
    "        ## FILL HERE\n",
    "        ## You should train the model and also print the running loss for each batch\n",
    "\n",
    "print('Finished Training')"
   ]
  },
  {
   "cell_type": "markdown",
   "id": "14558277",
   "metadata": {},
   "source": [
    "## Test the network on the test data\n",
    "\n",
    "In the following section, you should test your network and calculate the accuracy of your model on the test dataset."
   ]
  },
  {
   "cell_type": "code",
   "execution_count": null,
   "id": "fb0f4803",
   "metadata": {},
   "outputs": [],
   "source": [
    "correct = 0\n",
    "total = 0\n",
    "# since we're not training, we don't need to calculate the gradients for our outputs\n",
    "with torch.no_grad():\n",
    "    for data in testloader:\n",
    "        ## FILL HERE\n",
    "\n",
    "print(f'Accuracy of the network on the 10000 test images: {100 * correct // total} %')"
   ]
  },
  {
   "cell_type": "markdown",
   "id": "9a90c190",
   "metadata": {},
   "source": [
    "Here, we also calculate the model performance for each class as well."
   ]
  },
  {
   "cell_type": "code",
   "execution_count": null,
   "id": "8afd6a24",
   "metadata": {},
   "outputs": [],
   "source": [
    "# prepare to count predictions for each class\n",
    "correct_pred = {classname: 0 for classname in classes}\n",
    "total_pred = {classname: 0 for classname in classes}\n",
    "\n",
    "# again no gradients needed\n",
    "with torch.no_grad():\n",
    "    for data in testloader:\n",
    "        ## FILL HERE\n",
    "\n",
    "\n",
    "# print accuracy for each class\n",
    "for classname, correct_count in correct_pred.items():\n",
    "    accuracy = 100 * float(correct_count) / total_pred[classname]\n",
    "    print(f'Accuracy for class: {classname:5s} is {accuracy:.1f} %')"
   ]
  }
 ],
 "metadata": {
  "kernelspec": {
   "display_name": "Python 3",
   "language": "python",
   "name": "python3"
  },
  "language_info": {
   "codemirror_mode": {
    "name": "ipython",
    "version": 3
   },
   "file_extension": ".py",
   "mimetype": "text/x-python",
   "name": "python",
   "nbconvert_exporter": "python",
   "pygments_lexer": "ipython3",
   "version": "3.8.3"
  }
 },
 "nbformat": 4,
 "nbformat_minor": 5
}
